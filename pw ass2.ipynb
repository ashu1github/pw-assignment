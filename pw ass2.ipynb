{
 "cells": [
  {
   "cell_type": "code",
   "execution_count": null,
   "id": "4ced52b3-148f-4302-a03e-8885b69577d4",
   "metadata": {},
   "outputs": [],
   "source": [
    "# calculate the sum ,difference ,product and quotient of two numbers"
   ]
  },
  {
   "cell_type": "code",
   "execution_count": 5,
   "id": "6aaf3e6b-f25e-4a1f-a344-5c354d57df0b",
   "metadata": {},
   "outputs": [
    {
     "name": "stdout",
     "output_type": "stream",
     "text": [
      "the sum of two numbers 15\n",
      "the diff of two num 5\n",
      "the product of two num 50\n",
      "the quotient_res of two num 2.0\n"
     ]
    }
   ],
   "source": [
    "a=10\n",
    "b=5\n",
    "sum = a+b\n",
    "diff = a-b\n",
    "product=a*b\n",
    "quotient_res=a/b\n",
    "print(\"the sum of two numbers\",a+b)\n",
    "print(\"the diff of two num\",a-b)\n",
    "print(\"the product of two num\",a*b)\n",
    "print(\"the quotient_res of two num\",a/b)\n",
    "\n",
    "\n"
   ]
  },
  {
   "cell_type": "code",
   "execution_count": null,
   "id": "0dbcffa0-4650-4d34-8ebb-6f020340fb5c",
   "metadata": {},
   "outputs": [],
   "source": [
    "# perform various assignment operations on a variable"
   ]
  },
  {
   "cell_type": "code",
   "execution_count": 25,
   "id": "3c925cd6-81ce-4c63-ba54-786e8bd90ce3",
   "metadata": {},
   "outputs": [
    {
     "name": "stdout",
     "output_type": "stream",
     "text": [
      "the values of numbers after assignments: 1\n"
     ]
    }
   ],
   "source": [
    "x=10\n",
    "x+=5\n",
    "x-=6\n",
    "x*=2\n",
    "x%=8\n",
    "x**=4\n",
    "x//=9\n",
    "print(\"the values of numbers after assignments:\",x)"
   ]
  },
  {
   "cell_type": "code",
   "execution_count": 28,
   "id": "b60718bb-5d02-4321-8485-1bff5496a770",
   "metadata": {},
   "outputs": [
    {
     "name": "stdout",
     "output_type": "stream",
     "text": [
      "False\n",
      "True\n",
      "True\n",
      "False\n",
      "False\n",
      "True\n"
     ]
    }
   ],
   "source": [
    "# compare two numbers and print the result\n",
    "a =190\n",
    "b = 26\n",
    "print(a==b)\n",
    "print(a!=b)\n",
    "print(a>b)\n",
    "print(a<b)\n",
    "print(a<=b)\n",
    "print(a>=b)"
   ]
  },
  {
   "cell_type": "code",
   "execution_count": 32,
   "id": "cb9a16f1-4609-4544-bd56-48eae9fc3cd1",
   "metadata": {},
   "outputs": [
    {
     "name": "stdout",
     "output_type": "stream",
     "text": [
      "False\n",
      "True\n",
      "True\n"
     ]
    }
   ],
   "source": [
    "#check conditions using logical operators\n",
    "a = True\n",
    "b = False\n",
    "print(a and b)\n",
    "print(a or b)\n",
    "print( not b)\n"
   ]
  },
  {
   "cell_type": "code",
   "execution_count": 37,
   "id": "c22fe183-e661-46e5-add3-c1008aedec86",
   "metadata": {},
   "outputs": [
    {
     "name": "stdout",
     "output_type": "stream",
     "text": [
      "True\n",
      "False\n",
      "True\n"
     ]
    }
   ],
   "source": [
    "# check the identity of variables\n",
    "a =[1,2,3]\n",
    "b = a\n",
    "c =[1,2,3]\n",
    "print(a is b)\n",
    "print(a is  c)\n",
    "print(a is not c)\n",
    "\n"
   ]
  },
  {
   "cell_type": "code",
   "execution_count": 39,
   "id": "277a1be7-02b9-4ae0-b74f-401b2d484228",
   "metadata": {},
   "outputs": [
    {
     "name": "stdout",
     "output_type": "stream",
     "text": [
      "10\n"
     ]
    }
   ],
   "source": [
    "# use uniary operators to change the sign of a number.\n",
    "a=10\n",
    "b=-a\n",
    "c=-b\n",
    "print(c)"
   ]
  },
  {
   "cell_type": "code",
   "execution_count": 43,
   "id": "d08e3e09-d5fe-4583-a649-9e1fb8f7a3cc",
   "metadata": {},
   "outputs": [
    {
     "name": "stdout",
     "output_type": "stream",
     "text": [
      "the result is 0\n",
      "the result is 14\n",
      "the result is  14\n"
     ]
    }
   ],
   "source": [
    "# perform bitwise operations on any two  operands\n",
    "a =10\n",
    "b =4\n",
    "and_res = a&b\n",
    "or_res =a|b\n",
    "xor_res =a^b\n",
    "print(\"the result is\",and_res)\n",
    "print(\"the result is\",or_res)\n",
    "print(\"the result is \",xor_res)"
   ]
  },
  {
   "cell_type": "code",
   "execution_count": 55,
   "id": "d2e48f1a-88bd-4bdc-9051-28524254c22d",
   "metadata": {},
   "outputs": [
    {
     "name": "stdout",
     "output_type": "stream",
     "text": [
      "adult\n"
     ]
    }
   ],
   "source": [
    "# use of ternary operator\n",
    "age=20\n",
    "status = \"adult\" if age>=18 else \"minor\"\n",
    "print(status)\n"
   ]
  },
  {
   "cell_type": "code",
   "execution_count": null,
   "id": "3319b4b5-a295-45f3-80b7-40b3434fff37",
   "metadata": {},
   "outputs": [],
   "source": []
  },
  {
   "cell_type": "code",
   "execution_count": null,
   "id": "92221d4f-e14e-4980-8c38-753d78fa511c",
   "metadata": {},
   "outputs": [],
   "source": []
  }
 ],
 "metadata": {
  "kernelspec": {
   "display_name": "Python 3 (ipykernel)",
   "language": "python",
   "name": "python3"
  },
  "language_info": {
   "codemirror_mode": {
    "name": "ipython",
    "version": 3
   },
   "file_extension": ".py",
   "mimetype": "text/x-python",
   "name": "python",
   "nbconvert_exporter": "python",
   "pygments_lexer": "ipython3",
   "version": "3.11.7"
  }
 },
 "nbformat": 4,
 "nbformat_minor": 5
}
