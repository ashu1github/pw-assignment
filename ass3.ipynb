{
 "cells": [
  {
   "cell_type": "code",
   "execution_count": null,
   "id": "177de4d7-1ab1-4c6e-8bee-4c8f712c776e",
   "metadata": {},
   "outputs": [],
   "source": [
    "# explain the significance of python keywords and provide examples of five keywords\n",
    "python keywords are reserve words that have special meaning in the python programming "
   ]
  },
  {
   "cell_type": "code",
   "execution_count": 4,
   "id": "987cbca9-e6de-4592-a59c-ef1894067cd9",
   "metadata": {},
   "outputs": [
    {
     "name": "stdout",
     "output_type": "stream",
     "text": [
      "x is greater than 7\n",
      "0\n",
      "1\n",
      "2\n",
      "3\n",
      "4\n",
      "hi,ashu!\n",
      "3.4641016151377544\n",
      "7\n"
     ]
    }
   ],
   "source": [
    "#the  example of keywords are \n",
    "#1\n",
    "\n",
    "x=12\n",
    "if x>=7:\n",
    "     print(\"x is greater than 7\")\n",
    "\n",
    "#2\n",
    "for i in range(5):\n",
    "    print(i)\n",
    "\n",
    "#3\n",
    "def greet (name):\n",
    "    return f\"hi,{name}!\"\n",
    "    \n",
    "print(greet(\"ashu\"))\n",
    "\n",
    "# 4 import \n",
    "import math\n",
    "print(math.sqrt(12))\n",
    "\n",
    "# 5 return\n",
    "def add(a,b):\n",
    "    return a+b\n",
    "result =add(3,4)\n",
    "print(result)\n"
   ]
  },
  {
   "cell_type": "code",
   "execution_count": null,
   "id": "f85a8c95-d88f-487e-9685-b6ffcdd6b0ed",
   "metadata": {},
   "outputs": [],
   "source": [
    "# DESCRIBE THE RULES FOR DEFINING IDENTIFIERS IN PYTHON \n",
    "#AND PROVIDE  AN EXAMPLE"
   ]
  },
  {
   "cell_type": "code",
   "execution_count": null,
   "id": "56d58902-d9e7-4468-b7fb-93576c9a0684",
   "metadata": {},
   "outputs": [],
   "source": [
    "#identifiers in python are names used to identify a variable ,\n",
    "#function ,class ,module or other object\n",
    "\n",
    "# identifiers can include only letters ,digit and underscore.\n",
    "# identifier must start with letter and underscore but they can not start with  a digit\n",
    "# identifiers are case sensitive\n",
    "# identifiers can not be same as python keywords\n",
    "\n",
    "#example\n",
    "#my_var=20\n",
    "#MyVaeriable =30\n",
    "#_variable =29\n",
    "#variable=50\n"
   ]
  },
  {
   "cell_type": "code",
   "execution_count": null,
   "id": "fd316130-56cc-4eb3-812a-a0b4eab7d1ed",
   "metadata": {},
   "outputs": [],
   "source": [
    "# What are comments in Python, and why are they useful Provide an example"
   ]
  },
  {
   "cell_type": "code",
   "execution_count": null,
   "id": "1c74b43d-e3cf-43a2-b4cb-1f34953c9fb0",
   "metadata": {},
   "outputs": [],
   "source": [
    "#comments are used to explain and clarify the code , and make easier to understand \n",
    "and maintain they are helpful to explain the code  and \n",
    "help to remeber the code that is written in a specific way\n",
    "\n",
    " # ex this is a single line comment\n",
    "x=10\n",
    "y=20\n",
    "# adding two numbers \n",
    "result =x+y\n",
    "print(result)\n",
    "\n"
   ]
  },
  {
   "cell_type": "code",
   "execution_count": null,
   "id": "06043d7c-1d62-4826-9f71-b8b57ced5d52",
   "metadata": {},
   "outputs": [],
   "source": [
    "` #Why is proper indentation important in Python?\n",
    "\n",
    "# proper indentation is crucial  in pyton because it defines the structure and flow of the program\n",
    "#it is useful for code readability .\n",
    "# it is requried for code consistancy\n",
    "# it is requried for maintainability"
   ]
  },
  {
   "cell_type": "code",
   "execution_count": null,
   "id": "c4384698-4a8c-4490-b2e6-5e6b4ed0c30a",
   "metadata": {},
   "outputs": [],
   "source": [
    "# what happens if indentation is incorrect in python?/\n",
    "#  python will raise infdentation error .\n",
    "#ex\n",
    "def greet(name):\n",
    " if name: ( incorrect indentation)\n",
    "     print(\"hello world\")\n",
    "# hard to debug\n",
    "# incorrect indentation makes the code hard to debug and read"
   ]
  },
  {
   "cell_type": "code",
   "execution_count": null,
   "id": "a5cb1492-417a-4042-85ed-c842ed645fa1",
   "metadata": {},
   "outputs": [],
   "source": [
    "# differentiate between expression and statement in python  with examples\n",
    "# an expression is combination of values ,o[erators and calls to functions that are evaluated to produse another value"
   ]
  },
  {
   "cell_type": "code",
   "execution_count": null,
   "id": "f2f1d076-a80e-4417-b70b-cf7609ff443d",
   "metadata": {},
   "outputs": [],
   "source": [
    "# arithmatic expression \n",
    "2+3"
   ]
  },
  {
   "cell_type": "code",
   "execution_count": null,
   "id": "2d12085c-ebca-47a8-934d-42da4c2fdb42",
   "metadata": {},
   "outputs": [],
   "source": [
    "# boolean expression\n",
    "5>4"
   ]
  },
  {
   "cell_type": "code",
   "execution_count": null,
   "id": "4d61520e-f554-49d3-8804-8cd537572091",
   "metadata": {},
   "outputs": [],
   "source": [
    "# variable exp[ression\n",
    "x=10\n",
    "x+5"
   ]
  },
  {
   "cell_type": "code",
   "execution_count": null,
   "id": "922a8eb8-70d9-433c-bca9-c435692de662",
   "metadata": {},
   "outputs": [],
   "source": [
    "# statement \n",
    "# assignment statement \n",
    "x=10\n",
    "# this statement assign a value 10 to variable x"
   ]
  },
  {
   "cell_type": "code",
   "execution_count": null,
   "id": "8cca60e2-84bf-42c3-a20c-eb7e4731a65d",
   "metadata": {},
   "outputs": [],
   "source": [
    "# print statement \n",
    "print(\"hello,world\")"
   ]
  },
  {
   "cell_type": "code",
   "execution_count": null,
   "id": "fdf0f69f-e7b0-42a3-9b00-d133fd228e06",
   "metadata": {},
   "outputs": [],
   "source": [
    "# if statement \n",
    "if x>5:\n",
    "    print(\"x is greater than 5\")\n",
    "    "
   ]
  },
  {
   "cell_type": "code",
   "execution_count": null,
   "id": "5c1a0952-4bdf-4719-ac25-2a2d6ecfc982",
   "metadata": {},
   "outputs": [],
   "source": [
    " # for loop \n",
    "for i in range(5):\n",
    "    print(i)"
   ]
  }
 ],
 "metadata": {
  "kernelspec": {
   "display_name": "Python 3 (ipykernel)",
   "language": "python",
   "name": "python3"
  },
  "language_info": {
   "codemirror_mode": {
    "name": "ipython",
    "version": 3
   },
   "file_extension": ".py",
   "mimetype": "text/x-python",
   "name": "python",
   "nbconvert_exporter": "python",
   "pygments_lexer": "ipython3",
   "version": "3.11.7"
  }
 },
 "nbformat": 4,
 "nbformat_minor": 5
}
