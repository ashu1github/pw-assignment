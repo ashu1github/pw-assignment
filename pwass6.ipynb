{
 "cells": [
  {
   "cell_type": "code",
   "execution_count": null,
   "id": "526fd29c-3c02-42ab-9720-155e4c1dbba8",
   "metadata": {},
   "outputs": [],
   "source": [
    "# write a program to print numbers from 1 to 10 but stops if the number is 5"
   ]
  },
  {
   "cell_type": "code",
   "execution_count": 2,
   "id": "8231e1ce-868e-4ec3-8867-147f6052ee35",
   "metadata": {},
   "outputs": [
    {
     "name": "stdout",
     "output_type": "stream",
     "text": [
      "1\n",
      "2\n",
      "3\n",
      "4\n",
      "6\n",
      "7\n",
      "8\n",
      "9\n",
      "10\n"
     ]
    }
   ],
   "source": [
    "\n",
    "for i in range (1,11):\n",
    "    if i==5:\n",
    "        break\n",
    "    print(i)    \n"
   ]
  },
  {
   "cell_type": "code",
   "execution_count": null,
   "id": "2b91e573-3cd8-4367-abf4-4bddb5044362",
   "metadata": {},
   "outputs": [],
   "source": [
    "# Write a program to iterate through a list and stop when encountering a specific element."
   ]
  },
  {
   "cell_type": "code",
   "execution_count": 6,
   "id": "8dd4900b-f00c-4b4b-a18e-12ef5c87e7f9",
   "metadata": {},
   "outputs": [
    {
     "name": "stdout",
     "output_type": "stream",
     "text": [
      "3\n",
      "8\n",
      "2\n"
     ]
    }
   ],
   "source": [
    "my_list=[3,8,2,7,5,9,1]\n",
    "stop_element=7\n",
    "for element in my_list:\n",
    "     if element == stop_element:\n",
    "         break\n",
    "     print(element)   "
   ]
  },
  {
   "cell_type": "code",
   "execution_count": null,
   "id": "f7cb81ae-5a95-4d68-80f2-fdb2faa0acb2",
   "metadata": {},
   "outputs": [],
   "source": [
    "# write a program that skips printing even numbers from 1 to 10\n"
   ]
  },
  {
   "cell_type": "code",
   "execution_count": 9,
   "id": "dda341a9-9c49-4cbf-8450-2473fd159031",
   "metadata": {},
   "outputs": [
    {
     "name": "stdout",
     "output_type": "stream",
     "text": [
      "1\n",
      "3\n",
      "5\n",
      "7\n",
      "9\n"
     ]
    }
   ],
   "source": [
    "for i in range(1,11):\n",
    "    if i%2==0:\n",
    "        continue\n",
    "    print(i)   "
   ]
  },
  {
   "cell_type": "code",
   "execution_count": null,
   "id": "2ae38f8d-715a-4437-a5ee-ff267cdc6954",
   "metadata": {},
   "outputs": [],
   "source": [
    "# write  a program that prints number from 0 to 9 using range()"
   ]
  },
  {
   "cell_type": "code",
   "execution_count": 11,
   "id": "72104a4f-0531-4ea0-bba5-19559f112ae8",
   "metadata": {},
   "outputs": [
    {
     "name": "stdout",
     "output_type": "stream",
     "text": [
      "0\n",
      "1\n",
      "2\n",
      "3\n",
      "4\n",
      "5\n",
      "6\n",
      "7\n",
      "8\n",
      "9\n"
     ]
    }
   ],
   "source": [
    "for i in range(0,10):\n",
    "    print(i)\n"
   ]
  },
  {
   "cell_type": "code",
   "execution_count": null,
   "id": "765dbc60-ada0-4fea-9b39-018bb35ee4eb",
   "metadata": {},
   "outputs": [],
   "source": [
    "# write a program to print multiplication tables from 1 to 5 ,but stop\n",
    "# after the first  table is printed for each number"
   ]
  },
  {
   "cell_type": "code",
   "execution_count": 13,
   "id": "e3cec1bd-c546-4873-986d-5560240c7b58",
   "metadata": {},
   "outputs": [
    {
     "name": "stdout",
     "output_type": "stream",
     "text": [
      "multiplication table  for 1:\n",
      "1*1=1\n",
      "1*2=2\n",
      "1*3=3\n",
      "1*4=4\n",
      "1*5=5\n",
      "1*6=6\n",
      "1*7=7\n",
      "1*8=8\n",
      "1*9=9\n",
      "1*10=10\n",
      "\n"
     ]
    }
   ],
   "source": [
    "for num in range(1,6):\n",
    "    print(f\"multiplication table  for {num}:\")\n",
    "    for i in range (1,11):\n",
    "        print(f\"{num}*{i}={num*i}\")\n",
    "    print()\n",
    "\n",
    "    break\n",
    "        "
   ]
  },
  {
   "cell_type": "code",
   "execution_count": null,
   "id": "de255a4b-4160-4d04-826d-6f87fb4ca3fc",
   "metadata": {},
   "outputs": [],
   "source": [
    "#  write a program that skips printing even numbers using a while loop"
   ]
  },
  {
   "cell_type": "code",
   "execution_count": 14,
   "id": "b073c7a0-b87c-45ee-8bba-f40b73af78c3",
   "metadata": {},
   "outputs": [
    {
     "name": "stdout",
     "output_type": "stream",
     "text": [
      "1\n",
      "3\n",
      "5\n",
      "7\n",
      "9\n"
     ]
    }
   ],
   "source": [
    "i=1\n",
    "while i<=10:\n",
    "    if i%2==0:\n",
    "        i=i+1\n",
    "        continue\n",
    "    print(i)\n",
    "    i=i+1"
   ]
  },
  {
   "cell_type": "code",
   "execution_count": null,
   "id": "16cd28da-83d0-403f-9f1b-662a50c4b0e3",
   "metadata": {},
   "outputs": [],
   "source": []
  }
 ],
 "metadata": {
  "kernelspec": {
   "display_name": "Python 3 (ipykernel)",
   "language": "python",
   "name": "python3"
  },
  "language_info": {
   "codemirror_mode": {
    "name": "ipython",
    "version": 3
   },
   "file_extension": ".py",
   "mimetype": "text/x-python",
   "name": "python",
   "nbconvert_exporter": "python",
   "pygments_lexer": "ipython3",
   "version": "3.11.7"
  }
 },
 "nbformat": 4,
 "nbformat_minor": 5
}
