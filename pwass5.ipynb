{
 "cells": [
  {
   "cell_type": "code",
   "execution_count": null,
   "id": "f40436d3-24c0-49bf-a0e1-aed5fc2decd6",
   "metadata": {},
   "outputs": [],
   "source": [
    "# print numbers from 1 to 5v using whikle loop"
   ]
  },
  {
   "cell_type": "code",
   "execution_count": 1,
   "id": "8fc9b5b9-4a42-48dd-8e83-4f0712b4d622",
   "metadata": {},
   "outputs": [
    {
     "name": "stdout",
     "output_type": "stream",
     "text": [
      "1\n",
      "2\n",
      "3\n",
      "4\n",
      "5\n"
     ]
    }
   ],
   "source": [
    "x=1\n",
    "while x<=5:\n",
    "    print(x)\n",
    "    x=x+1"
   ]
  },
  {
   "cell_type": "code",
   "execution_count": null,
   "id": "b9cd4474-2944-4442-a8b9-50e2d16aadae",
   "metadata": {},
   "outputs": [],
   "source": [
    "# calculate the sum of numbers from 1 to 10 using a while loop"
   ]
  },
  {
   "cell_type": "code",
   "execution_count": 5,
   "id": "f922f83a-40f9-44e5-819c-cff0b01effbc",
   "metadata": {},
   "outputs": [
    {
     "name": "stdout",
     "output_type": "stream",
     "text": [
      "the result is 55\n"
     ]
    }
   ],
   "source": [
    "sum=0\n",
    "x=1\n",
    "while x<=10:\n",
    "    sum=sum+x\n",
    "    x=x+1\n",
    "print(\"The result is\",sum)    "
   ]
  },
  {
   "cell_type": "code",
   "execution_count": null,
   "id": "f06db9b5-889e-4776-a97d-71d75ba380a1",
   "metadata": {},
   "outputs": [],
   "source": [
    "#calculatre the factorial of number using a for loop"
   ]
  },
  {
   "cell_type": "code",
   "execution_count": 4,
   "id": "e676c902-5f00-4ec2-a60d-dfd0b384209f",
   "metadata": {},
   "outputs": [
    {
     "name": "stdin",
     "output_type": "stream",
     "text": [
      "enter the number 5\n"
     ]
    },
    {
     "name": "stdout",
     "output_type": "stream",
     "text": [
      "factorial 1\n",
      "factorial 2\n",
      "factorial 6\n",
      "factorial 24\n",
      "factorial 120\n"
     ]
    }
   ],
   "source": [
    "num=int(input(\"enter the number\"))\n",
    "fact=1\n",
    "for i in range (1,num+1):\n",
    "    fact=fact*i\n",
    "    print(\"factorial\",fact)\n",
    "        "
   ]
  },
  {
   "cell_type": "code",
   "execution_count": null,
   "id": "81e29250-754b-4ca8-8731-bfa03c5b3e00",
   "metadata": {},
   "outputs": [],
   "source": [
    "# count the number of vowels in a string using for loop\n"
   ]
  },
  {
   "cell_type": "code",
   "execution_count": 5,
   "id": "c7a1ee4b-f3f7-4451-b3dc-df2b100014f2",
   "metadata": {},
   "outputs": [
    {
     "name": "stdout",
     "output_type": "stream",
     "text": [
      "total numbers of vowels in the string: 3\n"
     ]
    }
   ],
   "source": [
    "str1=\"hello world\"\n",
    "vowels =\"aeiouAEIOU\"\n",
    "count=0\n",
    "for char in str1:\n",
    "    if char in vowels:\n",
    "        count=count+1\n",
    "print(\"total numbers of vowels in the string:\",count)        \n",
    "        \n",
    "        "
   ]
  },
  {
   "cell_type": "code",
   "execution_count": null,
   "id": "267de617-0969-43b3-9a06-6eecf5e7ff9c",
   "metadata": {},
   "outputs": [],
   "source": [
    "# print a pattern using nested loop\n"
   ]
  },
  {
   "cell_type": "code",
   "execution_count": 5,
   "id": "de404b57-853f-453b-949c-7b0acc84a74f",
   "metadata": {},
   "outputs": [
    {
     "name": "stdout",
     "output_type": "stream",
     "text": [
      "*\n",
      "**\n",
      "***\n",
      "****\n",
      "*****\n"
     ]
    }
   ],
   "source": [
    "n=5\n",
    "for i in range(1,n+1):\n",
    "    for j in range(i):\n",
    "        print(\"*\",end=\"\")\n",
    "    print()   "
   ]
  },
  {
   "cell_type": "code",
   "execution_count": null,
   "id": "ee057690-4555-4c66-bfd1-f1dd7272ba1e",
   "metadata": {},
   "outputs": [],
   "source": [
    "# generate a multiplication table using nested loop"
   ]
  },
  {
   "cell_type": "code",
   "execution_count": 9,
   "id": "f7f7dd2b-f578-4fa9-863d-8cc586127792",
   "metadata": {},
   "outputs": [
    {
     "name": "stdout",
     "output_type": "stream",
     "text": [
      "5*1=5\n",
      "5*2=10\n",
      "5*3=15\n",
      "5*4=20\n",
      "5*5=25\n",
      "5*1=5\n",
      "5*2=10\n",
      "5*3=15\n",
      "5*4=20\n",
      "5*5=25\n",
      "5*1=5\n",
      "5*2=10\n",
      "5*3=15\n",
      "5*4=20\n",
      "5*5=25\n",
      "5*1=5\n",
      "5*2=10\n",
      "5*3=15\n",
      "5*4=20\n",
      "5*5=25\n",
      "5*1=5\n",
      "5*2=10\n",
      "5*3=15\n",
      "5*4=20\n",
      "5*5=25\n",
      "\n"
     ]
    }
   ],
   "source": [
    "size=5\n",
    "for i in range(1,size+1):\n",
    "    for j in range(1,size+1):\n",
    "        print(f\"{size}*{j}={size*j}\")\n",
    "print()"
   ]
  },
  {
   "cell_type": "markdown",
   "id": "a8d373f0-ff95-4332-910a-2cde13be3cbd",
   "metadata": {},
   "source": []
  },
  {
   "cell_type": "code",
   "execution_count": null,
   "id": "7ae9de3d-f774-4b61-acb4-62b6f772cdd1",
   "metadata": {},
   "outputs": [],
   "source": []
  }
 ],
 "metadata": {
  "kernelspec": {
   "display_name": "Python 3 (ipykernel)",
   "language": "python",
   "name": "python3"
  },
  "language_info": {
   "codemirror_mode": {
    "name": "ipython",
    "version": 3
   },
   "file_extension": ".py",
   "mimetype": "text/x-python",
   "name": "python",
   "nbconvert_exporter": "python",
   "pygments_lexer": "ipython3",
   "version": "3.11.7"
  }
 },
 "nbformat": 4,
 "nbformat_minor": 5
}
