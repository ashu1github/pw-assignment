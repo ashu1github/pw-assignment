{
 "cells": [
  {
   "cell_type": "markdown",
   "id": "776b696c-0f26-4049-b95f-77e20c61f22d",
   "metadata": {},
   "source": [
    "# assignment\n"
   ]
  },
  {
   "cell_type": "code",
   "execution_count": null,
   "id": "a38b5715-2057-4d1f-8932-e1d5aa378a88",
   "metadata": {},
   "outputs": [],
   "source": [
    "# convert integer into float "
   ]
  },
  {
   "cell_type": "code",
   "execution_count": 1,
   "id": "f8ce1d38-0c2b-4755-948e-dd1b5271c4a8",
   "metadata": {},
   "outputs": [
    {
     "name": "stdout",
     "output_type": "stream",
     "text": [
      "23.0\n"
     ]
    }
   ],
   "source": [
    "a= 23\n",
    "b=float(a)\n",
    "print(b)"
   ]
  },
  {
   "cell_type": "code",
   "execution_count": null,
   "id": "87d96d40-9cf3-4f90-bd6e-e593bc7b759d",
   "metadata": {},
   "outputs": [],
   "source": [
    "# convert float into integer"
   ]
  },
  {
   "cell_type": "code",
   "execution_count": 2,
   "id": "b6ceaeac-849d-443e-9a9e-5e54ac503ede",
   "metadata": {},
   "outputs": [
    {
     "name": "stdout",
     "output_type": "stream",
     "text": [
      "23\n"
     ]
    }
   ],
   "source": [
    "float_num=23.6\n",
    "integer_num= int(float_num)\n",
    "print(integer_num)"
   ]
  },
  {
   "cell_type": "code",
   "execution_count": null,
   "id": "b99b22b4-6a62-4bc9-9a97-026f5a13e914",
   "metadata": {},
   "outputs": [],
   "source": [
    "# convert an integer into string"
   ]
  },
  {
   "cell_type": "code",
   "execution_count": 8,
   "id": "ea330673-544b-4bc1-afcd-c2a4ddbf2aaf",
   "metadata": {},
   "outputs": [
    {
     "name": "stdout",
     "output_type": "stream",
     "text": [
      "10\n"
     ]
    }
   ],
   "source": [
    "integer_val = 10\n",
    "string_val = str(integer_val)\n",
    "print(string_val)"
   ]
  },
  {
   "cell_type": "code",
   "execution_count": null,
   "id": "7f588b0b-de7e-4a67-b3ec-72a878a10dcc",
   "metadata": {},
   "outputs": [],
   "source": [
    "# convert list into tuple"
   ]
  },
  {
   "cell_type": "code",
   "execution_count": 9,
   "id": "f4ce7851-87bc-496d-b3b9-919d7c565603",
   "metadata": {},
   "outputs": [
    {
     "name": "stdout",
     "output_type": "stream",
     "text": [
      "(2, 6, 8)\n"
     ]
    }
   ],
   "source": [
    "list_val = [2,6,8]\n",
    "tuple_val = tuple(list_val)\n",
    "print(tuple_val)\n"
   ]
  },
  {
   "cell_type": "code",
   "execution_count": 11,
   "id": "f2d2a880-4a36-44f5-afe3-16056608455c",
   "metadata": {},
   "outputs": [
    {
     "name": "stdout",
     "output_type": "stream",
     "text": [
      "[9, 6, 9]\n"
     ]
    }
   ],
   "source": [
    "# convert a tuple into list\n",
    "tup_val = (9,6,9)\n",
    "list_val=list(tup_val)\n",
    "print(list_val)\n",
    "\n",
    "\n",
    "\n",
    "\n",
    "\n",
    "\n",
    "\n",
    "\n",
    "\n",
    "      "
   ]
  },
  {
   "cell_type": "code",
   "execution_count": 14,
   "id": "b520f3f5-a8fd-49b0-b250-bb2c8aa9c89c",
   "metadata": {},
   "outputs": [
    {
     "name": "stdout",
     "output_type": "stream",
     "text": [
      "True\n"
     ]
    }
   ],
   "source": [
    "# convert a nan zero number to boolean\n",
    "num_val=12\n",
    "boolean_val=bool(num_val)\n",
    "print(boolean_val)"
   ]
  },
  {
   "cell_type": "code",
   "execution_count": 2,
   "id": "db52e9ca-3193-4840-872b-d919055f1f85",
   "metadata": {},
   "outputs": [
    {
     "name": "stdout",
     "output_type": "stream",
     "text": [
      "0b1010\n"
     ]
    }
   ],
   "source": [
    "# convert decimal num into binary\n",
    "decimal_num =10\n",
    "binary_num =bin(decimal_num)\n",
    "print(binary_num)"
   ]
  },
  {
   "cell_type": "code",
   "execution_count": null,
   "id": "24a5db47-a7df-405e-9a1f-aaa9c97ad92d",
   "metadata": {},
   "outputs": [],
   "source": []
  }
 ],
 "metadata": {
  "kernelspec": {
   "display_name": "Python 3 (ipykernel)",
   "language": "python",
   "name": "python3"
  },
  "language_info": {
   "codemirror_mode": {
    "name": "ipython",
    "version": 3
   },
   "file_extension": ".py",
   "mimetype": "text/x-python",
   "name": "python",
   "nbconvert_exporter": "python",
   "pygments_lexer": "ipython3",
   "version": "3.11.7"
  }
 },
 "nbformat": 4,
 "nbformat_minor": 5
}
